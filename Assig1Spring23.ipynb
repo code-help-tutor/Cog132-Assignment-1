{
 "cells": [
  {
   "cell_type": "code",
   "execution_count": 2,
   "metadata": {
    "id": "fK_6XaHj_Bvu"
   },
   "outputs": [],
   "source": [
    "import numpy as np\n",
    "import matplotlib.pyplot as plt\n",
    "%matplotlib inline\n",
    "from IPython.core.debugger import set_trace"
   ]
  },
  {
   "cell_type": "code",
   "execution_count": 3,
   "metadata": {
    "id": "kSnCnpcQ_Bvw"
   },
   "outputs": [],
   "source": [
    "def check_type(y,t): # Ensure Input is Correct\n",
    "    return y.dtype == np.floating and t.dtype == np.floating\n",
    "\n",
    "class _Integrator():\n",
    "    \n",
    "    def integrate(self,func,y0,t):\n",
    "        time_delta_grid = t[1:] - t[:-1]\n",
    "        \n",
    "        y = np.zeros((y0.shape[0],t.shape[0]))\n",
    "        y[:,0] = y0\n",
    "        \n",
    "        # Euler Step or Runge-Kutta Second Order Integration Step\n",
    "        for i in range(time_delta_grid.shape[0]):\n",
    "            y[:,i+1] = time_delta_grid[i]*func(y[:,i],t[i])+y[:,i] # Euler Integration Step\n",
    "            \n",
    "            #Un-Comment the next three lines to use the Runge-Kutta Second Order Integration\n",
    "            #k1=(1/2)*time_delta_grid[i]*func(y[:,i],t[i])\n",
    "            #breakpoint()\n",
    "            #y[:,i+1] = y[:,i]+time_delta_grid[i]*func(y[:,i]+k1,t[i]+time_delta_grid[i]/2)\n",
    "            \n",
    "            \n",
    "        return y\n",
    "       \n",
    "        #Runge-Kutta Fourth Order Integration Step\n",
    "        #for i in range(time_delta_grid.shape[0]):\n",
    "            #k1 = func(y[:,i], t[i])# RK4 Integration Steps replace Euler's Updation Steps\n",
    "            #half_step = t[i] + time_delta_grid[i] / 2\n",
    "            #k2 = func(y[:,i] + time_delta_grid[i] * k1 / 2, half_step)\n",
    "            #k3 = func(y[:,i] + time_delta_grid[i] * k2 / 2, half_step)\n",
    "            #k4 = func(y[:,i] + time_delta_grid[i] * k3, t[i] + time_delta_grid[i])\n",
    "            #y[:,i+1]= (k1 + 2 * k2 + 2 * k3 + k4) * (time_delta_grid[i] / 6) + y[:,i]\n",
    "        #return y\n",
    "        \n",
    "\n",
    "def odeint_rk4(func,y0,t):\n",
    "    y0 = np.array(y0)\n",
    "    t = np.array(t)\n",
    "    if check_type(y0,t):\n",
    "        return _Integrator().integrate(func,y0,t)\n",
    "    else:\n",
    "        print(\"error encountered\")"
   ]
  },
  {
   "cell_type": "code",
   "execution_count": 4,
   "metadata": {
    "id": "d0a1LdS6_Bv0"
   },
   "outputs": [],
   "source": [
    "C_m = 1      # Membrane Capacitance\n",
    "\n",
    "g_K = 10\n",
    "E_K = -95\n",
    "\n",
    "g_Na = 100\n",
    "E_Na = 50 \n",
    "\n",
    "g_L = 0.15\n",
    "E_L = -55"
   ]
  },
  {
   "cell_type": "code",
   "execution_count": 5,
   "metadata": {
    "id": "yO8uVSP8_Bv1"
   },
   "outputs": [],
   "source": [
    "def f(x):\n",
    "    \n",
    "    if abs(x)<1e-12: \n",
    "        x=1\n",
    "    elif x < -20:\n",
    "        ex = np.exp(x)\n",
    "        x = -x*ex/(1-ex)\n",
    "    else: \n",
    "        x = x/(1-np.exp(-x))\n",
    "    return x\n",
    "\n",
    "def g(x):\n",
    "    if abs(x)<1e-12: \n",
    "        x=1\n",
    "    else:\n",
    "        x = x/(np.exp(x)-1)\n",
    "    return x\n",
    "\n",
    "def h(x):\n",
    "    if x < -20:\n",
    "        x = np.exp(x)/(np.exp(x)+1)\n",
    "    else: x = 1/(1+np.exp(-x))\n",
    "    return x\n",
    "\n",
    "def K_prop(v):\n",
    "\n",
    "#αn(V ) = 0.032(V + 52)/(1 − exp(−(V + 52)/5))\n",
    "    def alpha_n(v):\n",
    "        u= (v+52)/5\n",
    "        return 0.032*5*f(u)\n",
    "    beta_n=0.5*np.exp(-(v+65)/80)\n",
    "\n",
    "    def n_inf(v):\n",
    "        return (alpha_n(v)/(alpha_n(v)+ beta_n))\n",
    "        #set_trace()\n",
    "    def tau_n(v):\n",
    "        return (1/(alpha_n(v)+beta_n))\n",
    "    #set_trace()\n",
    "    return n_inf(v), tau_n(v)\n",
    "\n",
    "\n",
    "def Na_prop(v):\n",
    "    \n",
    "#αm(V) = 0.32(V + 54)/(1 − exp(−(V + 54)/4))\n",
    "#βm (V ) = 0.28(V + 27)/(exp((V + 27)/5) − 1)\n",
    "\n",
    "    def alpha_m(v):\n",
    "        u = (v+54)/4\n",
    "        return 4*0.32*f(u)\n",
    "    \n",
    "    def beta_m(v):\n",
    "        u =(v+27)/5\n",
    "        return 5*0.28*g(u)\n",
    "\n",
    "    def m_inf(v):\n",
    "        return (alpha_m(v)/(alpha_m(v)+beta_m(v)))\n",
    "    \n",
    "    def tau_m(v):\n",
    "        return (1 / (alpha_m(v) + beta_m(v)))\n",
    "\n",
    "#αh(V) = 0.128 exp(−(V + 50)/18)\n",
    "#βh(V) = 4/(1 + exp(−(V + 27)/5)\n",
    "\n",
    "    alpha_h = 0.128*np.exp(-(v+50)/18)\n",
    "                                 \n",
    "    def beta_h(v):\n",
    "        u = (v+27)/5\n",
    "        return 4*h(u)\n",
    "    \n",
    "    def h_inf(v):\n",
    "        return (alpha_h/(alpha_h+beta_h(v)))\n",
    "    \n",
    "    def tau_h(v):\n",
    "        return 1/(alpha_h+beta_h(v))\n",
    "    #set_trace()\n",
    "    \n",
    "    return m_inf(v), tau_m(v), h_inf(v), tau_h(v)\n"
   ]
  },
  {
   "cell_type": "code",
   "execution_count": 6,
   "metadata": {
    "id": "8bdWC7Mc_Bv5"
   },
   "outputs": [],
   "source": [
    "def I_K(V, n):\n",
    "    return g_K  * n**4 * (V - E_K)\n",
    "\n",
    "def I_Na(V, m, h):\n",
    "    return g_Na * m**3 * h * (V - E_Na)\n",
    "\n",
    "def I_L(V):\n",
    "    return g_L * (V - E_L)"
   ]
  },
  {
   "cell_type": "code",
   "execution_count": 7,
   "metadata": {},
   "outputs": [],
   "source": [
    "def gPot(n):\n",
    "    return g_K * n**4\n",
    "\n",
    "def gSod():\n",
    "    return "
   ]
  },
  {
   "cell_type": "code",
   "execution_count": 8,
   "metadata": {
    "id": "uaxfM5g1_Bv6"
   },
   "outputs": [],
   "source": [
    "\n",
    "def run_HH(v_clamp):\n",
    "    \n",
    "    def dXdt(X,t):\n",
    "        V = v_clamp\n",
    "        #V = X[0:1]\n",
    "        m = X[0:1]\n",
    "        h = X[1:2]\n",
    "        n = X[2:3]\n",
    "\n",
    "        #dVdt = (5 - I_Na(V, m, h) - I_K(V, n) - I_L(V)) / C_m \n",
    "        # Here the current injection I_injected = 5 uA\n",
    "        \n",
    "        \n",
    "        \n",
    "        n0,tn = K_prop(V)\n",
    "        #set_trace()\n",
    "        m0,tm,h0,th = Na_prop(V)\n",
    "        \n",
    "        dmdt = - (1.0/tm)*(m-m0)\n",
    "        dhdt = - (1.0/th)*(h-h0)\n",
    "        dndt = - (1.0/tn)*(n-n0)\n",
    "\n",
    "        out = np.concatenate([dmdt,dhdt,dndt],0)\n",
    "        return out\n",
    "\n",
    "    V=v_clamp\n",
    "    epsilon = 0.01\n",
    "    t = np.arange(0, 30, epsilon)\n",
    "    y0 = np.float64([0,1,0])\n",
    "    \n",
    "    state = odeint_rk4(dXdt, y0, t)\n",
    "    \n",
    "\n",
    "    #V = state[3]\n",
    "    m = state[0]\n",
    "    h = state[1]\n",
    "    n = state[2]\n",
    "    \n",
    "    i_na = I_Na(V, m, h)\n",
    "    i_k = I_K(V, n)\n",
    "    i_l = I_L(V)\n",
    "    i_m = i_na + i_k + i_l\n",
    "    \n",
    "    fig, ax = plt.subplots(1)\n",
    "    ax.set_title(\"Voltage Clamp = \" + str(v_clamp) + \"V\")\n",
    "    ax.set_xlabel(\"Time\")\n",
    "    ax.plot(t, m**3, label = \"m^3\")\n",
    "    ax.plot(t, h, label = \"h\")\n",
    "    ax.plot(t, m**3*h, label= \"m^3h\")\n",
    "    ax.legend()\n",
    "    \n",
    "    return"
   ]
  },
  {
   "cell_type": "code",
   "execution_count": 9,
   "metadata": {
    "id": "DXtvPLx4_Bv8",
    "outputId": "ecf89f93-8f37-4817-c3e1-6081760709e9"
   },
   "outputs": [
    {
     "name": "stderr",
     "output_type": "stream",
     "text": [
      "/tmp/ipykernel_3318/2954535638.py:2: DeprecationWarning: Converting `np.inexact` or `np.floating` to a dtype is deprecated. The current result is `float64` which is not strictly correct.\n",
      "  return y.dtype == np.floating and t.dtype == np.floating\n"
     ]
    },
    {
     "data": {
      "image/png": "[encoded data removed]",
      "text/plain": [
       "<Figure size 432x288 with 1 Axes>"
      ]
     },
     "metadata": {
      "needs_background": "light"
     },
     "output_type": "display_data"
    }
   ],
   "source": [
    "run_HH(0)"
   ]
  },
  {
   "cell_type": "code",
   "execution_count": 10,
   "metadata": {},
   "outputs": [
    {
     "name": "stderr",
     "output_type": "stream",
     "text": [
      "/tmp/ipykernel_3318/2954535638.py:2: DeprecationWarning: Converting `np.inexact` or `np.floating` to a dtype is deprecated. The current result is `float64` which is not strictly correct.\n",
      "  return y.dtype == np.floating and t.dtype == np.floating\n"
     ]
    },
    {
     "data": {
      "image/png": "[encoded data removed]",
      "text/plain": [
       "<Figure size 432x288 with 1 Axes>"
      ]
     },
     "metadata": {
      "needs_background": "light"
     },
     "output_type": "display_data"
    }
   ],
   "source": [
    "run_HH(-40)"
   ]
  },
  {
   "cell_type": "code",
   "execution_count": null,
   "metadata": {},
   "outputs": [],
   "source": []
  }
 ],
 "metadata": {
  "colab": {
   "name": "ShreyaHomework 2.ipynb",
   "provenance": []
  },
  "kernelspec": {
   "display_name": "Python 3 (ipykernel)",
   "language": "python",
   "name": "python3"
  },
  "language_info": {
   "codemirror_mode": {
    "name": "ipython",
    "version": 3
   },
   "file_extension": ".py",
   "mimetype": "text/x-python",
   "name": "python",
   "nbconvert_exporter": "python",
   "pygments_lexer": "ipython3",
   "version": "3.9.7"
  }
 },
 "nbformat": 4,
 "nbformat_minor": 1
}
